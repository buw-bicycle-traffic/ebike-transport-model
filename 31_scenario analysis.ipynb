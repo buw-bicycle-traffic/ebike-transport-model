{
 "cells": [
  {
   "cell_type": "code",
   "execution_count": null,
   "id": "dcc62637-2609-4954-920f-7a95451c043c",
   "metadata": {},
   "outputs": [],
   "source": [
    "import os\n",
    "import win32com.client\n",
    "import numpy as np\n",
    "\n",
    "m_trips_walk = 24\n",
    "m_trips_cbike = 61\n",
    "m_trips_ebike = 62\n",
    "m_trips_card = 4\n",
    "m_trips_carp = 28\n",
    "m_trips_einpcar = 7\n",
    "m_trips_pt = 27\n",
    "\n",
    "m_dist_walk = 5315\n",
    "m_dist_cbike = 5088\n",
    "m_dist_ebike = 5089\n",
    "m_dist_card = 100\n",
    "m_dist_carp = 100\n",
    "m_dist_pt = 5319\n",
    "\n",
    "m_tt_walk = 101\n",
    "m_tt_cbike = 5316\n",
    "m_tt_ebike = 5317\n",
    "m_tt_card = 112\n",
    "m_tt_carp = 112\n",
    "m_tt_pt = 5318"
   ]
  },
  {
   "cell_type": "code",
   "execution_count": null,
   "id": "732c6058-2b82-4717-a754-5e9aa79ccd6d",
   "metadata": {},
   "outputs": [],
   "source": [
    "verPath = r'C:\\Users\\arning.FUL\\Desktop\\ver\\S-C0_20250210_1135.ver'\n",
    "Visum = win32com.client.Dispatch('Visum.Visum.24')\n",
    "Visum.loadVersion(verPath)\n",
    "\n",
    "trips_walk = np.array(Visum.Net.Matrices.ItemByKey(m_trips_walk).GetValues())\n",
    "trips_cbike = np.array(Visum.Net.Matrices.ItemByKey(m_trips_cbike).GetValues())\n",
    "trips_ebike = np.array(Visum.Net.Matrices.ItemByKey(m_trips_ebike).GetValues())\n",
    "trips_card = np.array(Visum.Net.Matrices.ItemByKey(m_trips_card).GetValues())\n",
    "trips_carp = np.array(Visum.Net.Matrices.ItemByKey(m_trips_carp).GetValues())\n",
    "trips_einpcar = np.array(Visum.Net.Matrices.ItemByKey(m_trips_einpcar).GetValues())\n",
    "trips_pt = np.array(Visum.Net.Matrices.ItemByKey(m_trips_pt).GetValues())\n",
    "\n",
    "dist_walk = np.array(Visum.Net.Matrices.ItemByKey(m_dist_walk).GetValues())\n",
    "dist_cbike = np.array(Visum.Net.Matrices.ItemByKey(m_dist_cbike).GetValues())\n",
    "dist_ebike = np.array(Visum.Net.Matrices.ItemByKey(m_dist_ebike).GetValues())\n",
    "dist_card = np.array(Visum.Net.Matrices.ItemByKey(m_dist_card).GetValues())\n",
    "dist_carp = np.array(Visum.Net.Matrices.ItemByKey(m_dist_carp).GetValues())\n",
    "dist_pt = np.array(Visum.Net.Matrices.ItemByKey(m_dist_pt).GetValues())\n",
    "\n",
    "tt_walk = np.array(Visum.Net.Matrices.ItemByKey(m_tt_walk).GetValues())\n",
    "tt_cbike = np.array(Visum.Net.Matrices.ItemByKey(m_tt_cbike).GetValues())\n",
    "tt_ebike = np.array(Visum.Net.Matrices.ItemByKey(m_tt_ebike).GetValues())\n",
    "tt_card = np.array(Visum.Net.Matrices.ItemByKey(m_tt_card).GetValues())\n",
    "tt_carp = np.array(Visum.Net.Matrices.ItemByKey(m_tt_carp).GetValues())\n",
    "tt_pt = np.array(Visum.Net.Matrices.ItemByKey(m_tt_pt).GetValues())"
   ]
  },
  {
   "cell_type": "code",
   "execution_count": null,
   "id": "1a100263-d2f8-494e-a74e-3e0d8a7970f1",
   "metadata": {},
   "outputs": [],
   "source": [
    "# trips\n",
    "print('walk trip count: '+str(trips_walk.sum()))\n",
    "print('cbike trip count: '+str(trips_cbike.sum()))\n",
    "print('ebike trip count: '+str(trips_ebike.sum()))\n",
    "print('card trip count: '+str(trips_card.sum()))\n",
    "print('carp trip count: '+str(trips_carp.sum()))\n",
    "print('pt trip count: '+str(trips_pt.sum()))\n",
    "print('Sum: '+str(trips_walk.sum()+trips_cbike.sum()+trips_ebike.sum()+trips_card.sum()+trips_carp.sum()+trips_pt.sum()))"
   ]
  },
  {
   "cell_type": "code",
   "execution_count": null,
   "id": "386e368d-5dc1-4852-bbe6-a2a5554fbc60",
   "metadata": {
    "scrolled": true
   },
   "outputs": [],
   "source": [
    "# mileage; dont account for Mitf!\n",
    "print('walk mileage: '+str(np.multiply(trips_walk, dist_walk).sum()))\n",
    "print('cbike mileage: '+str(np.multiply(trips_cbike, dist_cbike).sum()))\n",
    "print('ebike mileage: '+str(np.multiply(trips_ebike, dist_ebike).sum()))\n",
    "print('car mileage: '+str(np.multiply(trips_card, dist_card).sum()))\n",
    "print('pt mileage: '+str(np.multiply(trips_pt, dist_pt).sum()))\n",
    "print('Sum: '+str(np.multiply(trips_walk, dist_walk).sum()+np.multiply(trips_cbike, dist_cbike).sum()+np.multiply(trips_ebike, dist_ebike).sum()+np.multiply(trips_card, dist_card).sum()+np.multiply(trips_pt, dist_pt).sum()))"
   ]
  },
  {
   "cell_type": "code",
   "execution_count": null,
   "id": "20c4e2fe-e96e-4ac8-82ea-d2455ae9edff",
   "metadata": {},
   "outputs": [],
   "source": [
    "# travel time\n",
    "print('walk tt: '+str(np.multiply(trips_walk, tt_walk).sum()))\n",
    "print('cbike tt: '+str(np.multiply(trips_cbike, tt_cbike).sum()))\n",
    "print('ebike tt: '+str(np.multiply(trips_ebike, tt_ebike).sum()))\n",
    "print('card tt: '+str(np.multiply(trips_card, tt_card).sum()))\n",
    "print('carp tt: '+str(np.multiply(trips_carp, tt_card).sum()))\n",
    "print('pt tt: '+str(np.multiply(trips_pt, tt_pt).sum()))\n",
    "print('Sum: '+str(np.multiply(trips_walk, tt_walk).sum()+np.multiply(trips_cbike, tt_cbike).sum()+np.multiply(trips_ebike, tt_ebike).sum()+np.multiply(trips_card, tt_card).sum()+np.multiply(trips_carp, tt_card).sum()+np.multiply(trips_pt, tt_pt).sum()))"
   ]
  },
  {
   "cell_type": "code",
   "execution_count": null,
   "id": "b97d3d36-b666-488e-b902-81914ae55044",
   "metadata": {},
   "outputs": [],
   "source": [
    "# Compare bicycle impedance between Ref and A, using trips from ref. Impedance reduction of new cyclists using rule of half.\n",
    "\n",
    "verPath = r'C:\\Users\\arning.FUL\\Desktop\\ver\\S-00_20250131_1000.ver'\n",
    "Visum = win32com.client.Dispatch('Visum.Visum.24')\n",
    "Visum.loadVersion(verPath)\n",
    "\n",
    "Imp_cbike_ref = np.array(Visum.Net.Matrices.ItemByKey(5216).GetValues())#[:356, :356] #BV\n",
    "Imp_ebike_ref = np.array(Visum.Net.Matrices.ItemByKey(5217).GetValues())#[:356, :356] #BV\n",
    "\n",
    "trips_cbike_ref = np.array(Visum.Net.Matrices.ItemByKey(61).GetValues())#[:356, :356] #BV\n",
    "trips_ebike_ref = np.array(Visum.Net.Matrices.ItemByKey(62).GetValues())#[:356, :356] #BV"
   ]
  },
  {
   "cell_type": "code",
   "execution_count": null,
   "id": "d7777700-25d4-4c78-8916-31e378ba2c3b",
   "metadata": {},
   "outputs": [],
   "source": [
    "verPath = r'C:\\Users\\arning.FUL\\Desktop\\ver\\S-A0_20250207_0840.ver'\n",
    "Visum = win32com.client.Dispatch('Visum.Visum.24')\n",
    "Visum.loadVersion(verPath)\n",
    "\n",
    "Imp_cbike_A = np.array(Visum.Net.Matrices.ItemByKey(5216).GetValues())[:356, :356]\n",
    "Imp_ebike_A = np.array(Visum.Net.Matrices.ItemByKey(5217).GetValues())[:356, :356]\n",
    "\n",
    "trips_cbike_A = np.array(Visum.Net.Matrices.ItemByKey(61).GetValues())[:356, :356]\n",
    "trips_ebike_A = np.array(Visum.Net.Matrices.ItemByKey(62).GetValues())[:356, :356]"
   ]
  },
  {
   "cell_type": "code",
   "execution_count": null,
   "id": "ed673a2e-385c-4d71-8c99-2c272ced9f8b",
   "metadata": {},
   "outputs": [],
   "source": [
    "Imp_cbike_ref_sum = np.multiply(trips_cbike_ref, Imp_cbike_ref).sum()\n",
    "Imp_ebike_ref_sum = np.multiply(trips_ebike_ref, Imp_ebike_ref).sum()\n",
    "\n",
    "Imp_cbike_A_sum = np.multiply(trips_cbike_ref, Imp_cbike_A).sum() # ref trips, new trips are accounted for with rule of half!\n",
    "Imp_ebike_A_sum = np.multiply(trips_ebike_ref, Imp_ebike_A).sum() # ref trips, new trips are accounted for with rule of half!\n",
    "\n",
    "cbike_trips_new = trips_cbike_A.sum() - trips_cbike_ref.sum()\n",
    "ebike_trips_new = trips_ebike_A.sum() - trips_ebike_ref.sum()"
   ]
  },
  {
   "cell_type": "code",
   "execution_count": null,
   "id": "83951992-a657-4c02-9360-34b513a5538b",
   "metadata": {},
   "outputs": [],
   "source": [
    "print('c-bike IMP ref : '+str(Imp_cbike_ref_sum))\n",
    "print('e-bike IMP ref : '+str(Imp_ebike_ref_sum))\n",
    "\n",
    "print('c-bike IMP A : '+str(Imp_cbike_A_sum))\n",
    "print('e-bike IMP A : '+str(Imp_ebike_A_sum))\n",
    "\n",
    "print('new c-bike trips A-ref: ' +str(cbike_trips_new))\n",
    "print('new e-bike trips A-ref: ' +str(ebike_trips_new))"
   ]
  }
 ],
 "metadata": {
  "kernelspec": {
   "display_name": "Python [conda env:base] *",
   "language": "python",
   "name": "conda-base-py"
  },
  "language_info": {
   "codemirror_mode": {
    "name": "ipython",
    "version": 3
   },
   "file_extension": ".py",
   "mimetype": "text/x-python",
   "name": "python",
   "nbconvert_exporter": "python",
   "pygments_lexer": "ipython3",
   "version": "3.12.7"
  }
 },
 "nbformat": 4,
 "nbformat_minor": 5
}
